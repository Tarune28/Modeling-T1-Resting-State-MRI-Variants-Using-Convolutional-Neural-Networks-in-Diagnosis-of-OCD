version https://git-lfs.github.com/spec/v1
oid sha256:df1301c69d0a096a408e8fb007017e1eb6766a9b16267c38e101df6a2f052c55
size 3291543
